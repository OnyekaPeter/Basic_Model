{
  "nbformat": 4,
  "nbformat_minor": 0,
  "metadata": {
    "colab": {
      "provenance": [],
      "authorship_tag": "ABX9TyOmejOnWQnNHtphnvCU9gBZ",
      "include_colab_link": true
    },
    "kernelspec": {
      "name": "python3",
      "display_name": "Python 3"
    },
    "language_info": {
      "name": "python"
    }
  },
  "cells": [
    {
      "cell_type": "markdown",
      "metadata": {
        "id": "view-in-github",
        "colab_type": "text"
      },
      "source": [
        "<a href=\"https://colab.research.google.com/github/OnyekaPeter/Basic_Model/blob/master/StageC.ipynb\" target=\"_parent\"><img src=\"https://colab.research.google.com/assets/colab-badge.svg\" alt=\"Open In Colab\"/></a>"
      ]
    },
    {
      "cell_type": "code",
      "execution_count": 2,
      "metadata": {
        "id": "Pyw20PIapgZ_",
        "colab": {
          "base_uri": "https://localhost:8080/"
        },
        "outputId": "721551fc-b7ca-45ef-89b2-68723362a240"
      },
      "outputs": [
        {
          "output_type": "stream",
          "name": "stdout",
          "text": [
            "RMSE: 3.644\n"
          ]
        }
      ],
      "source": [
        "import pandas as pd\n",
        "import numpy as np\n",
        "from sklearn.linear_model import LinearRegression\n",
        "from sklearn.metrics import mean_squared_error\n",
        "\n",
        "# Load the dataset into a DataFrame\n",
        "df = pd.read_csv('energydata_complete.csv')\n",
        "\n",
        "# Extract the features and target\n",
        "X = df['T2'].values.reshape(-1, 1)  # Input feature (temperature in the living room)\n",
        "y = df['T6'].values  # Target (temperature outside the building)\n",
        "\n",
        "# Create and fit a linear regression model\n",
        "model = LinearRegression()\n",
        "model.fit(X, y)\n",
        "\n",
        "# Make predictions\n",
        "y_pred = model.predict(X)\n",
        "\n",
        "# Calculate the Root Mean Squared Error (RMSE)\n",
        "rmse = np.sqrt(mean_squared_error(y, y_pred))\n",
        "\n",
        "# Print the RMSE rounded to three decimal places\n",
        "print(f'RMSE: {rmse:.3f}')\n"
      ]
    },
    {
      "cell_type": "code",
      "source": [
        "from sklearn.model_selection import train_test_split\n",
        "from sklearn.preprocessing import MinMaxScaler\n",
        "from sklearn.linear_model import LinearRegression\n",
        "from sklearn.metrics import mean_absolute_error, mean_squared_error\n",
        "\n",
        "# Drop the specified columns\n",
        "df = df.drop([\"date\", \"lights\"], axis=1)\n",
        "\n",
        "# Define the features (independent variables) and the target variable\n",
        "X = df.drop(\"Appliances\", axis=1)\n",
        "y = df[\"Appliances\"]\n",
        "\n",
        "# Split the data into a 70-30 train-test set with a random state of 42\n",
        "X_train, X_test, y_train, y_test = train_test_split(X, y, test_size=0.3, random_state=42)\n",
        "\n",
        "# Normalize the dataset using MinMaxScaler\n",
        "scaler = MinMaxScaler()\n",
        "X_train = scaler.fit_transform(X_train)\n",
        "X_test = scaler.transform(X_test)\n",
        "\n",
        "# Create and fit a multiple linear regression model on the training set\n",
        "model = LinearRegression()\n",
        "model.fit(X_train, y_train)\n",
        "\n",
        "# Predict on the training set\n",
        "y_train_pred = model.predict(X_train)\n",
        "\n",
        "# Calculate Mean Absolute Error (MAE) and Root Mean Squared Error (RMSE) for the training set\n",
        "mae_train = mean_absolute_error(y_train, y_train_pred)\n",
        "rmse_train = mean_squared_error(y_train, y_train_pred, squared=False)\n",
        "\n",
        "# Print the MAE and RMSE rounded to three decimal places\n",
        "print(f'Mean Absolute Error (MAE) for the training set: {mae_train:.3f}')\n",
        "print(f'Root Mean Squared Error (RMSE) for the training set: {rmse_train:.3f}')\n"
      ],
      "metadata": {
        "colab": {
          "base_uri": "https://localhost:8080/"
        },
        "id": "7iuDQWECwBP6",
        "outputId": "5f075206-0de0-464f-dd67-251b4c2cb18c"
      },
      "execution_count": 4,
      "outputs": [
        {
          "output_type": "stream",
          "name": "stdout",
          "text": [
            "Mean Absolute Error (MAE) for the training set: 53.742\n",
            "Root Mean Squared Error (RMSE) for the training set: 95.216\n"
          ]
        }
      ]
    },
    {
      "cell_type": "code",
      "source": [
        "from sklearn.metrics import mean_absolute_error, mean_squared_error\n",
        "\n",
        "# Predict on the test set\n",
        "y_test_pred = model.predict(X_test)\n",
        "\n",
        "# Calculate Mean Absolute Error (MAE) and Root Mean Squared Error (RMSE) for the test set\n",
        "mae_test = mean_absolute_error(y_test, y_test_pred)\n",
        "rmse_test = mean_squared_error(y_test, y_test_pred, squared=False)\n",
        "\n",
        "# Print the MAE and RMSE for the test set, rounded to three decimal places\n",
        "print(f'Mean Absolute Error (MAE) for the test set: {mae_test:.3f}')\n",
        "print(f'Root Mean Squared Error (RMSE) for the test set: {rmse_test:.3f}')\n",
        "\n",
        "# Determine if the model overfit to the training set\n",
        "overfit = 'No' if mae_train <= mae_test else 'Yes'\n",
        "print(f'Did the model overfit to the training set? {overfit}')\n"
      ],
      "metadata": {
        "colab": {
          "base_uri": "https://localhost:8080/"
        },
        "id": "_FZ8uSQ4x9LC",
        "outputId": "7b38aae4-5cb7-4d5f-8136-1b06e64fd6b2"
      },
      "execution_count": 5,
      "outputs": [
        {
          "output_type": "stream",
          "name": "stdout",
          "text": [
            "Mean Absolute Error (MAE) for the test set: 53.643\n",
            "Root Mean Squared Error (RMSE) for the test set: 93.640\n",
            "Did the model overfit to the training set? Yes\n"
          ]
        }
      ]
    },
    {
      "cell_type": "code",
      "source": [
        "from sklearn.linear_model import Ridge, Lasso\n",
        "\n",
        "# Train a Ridge regression model with default parameters\n",
        "ridge_model = Ridge()\n",
        "ridge_model.fit(X_train, y_train)\n",
        "\n",
        "# Predict with the Ridge model on the test set\n",
        "y_test_pred_ridge = ridge_model.predict(X_test)\n",
        "\n",
        "# Calculate RMSE with Ridge regression on the test set\n",
        "rmse_test_ridge = mean_squared_error(y_test, y_test_pred_ridge, squared=False)\n",
        "\n",
        "# Determine if there is any change in RMSE with Ridge regression\n",
        "rmse_change_ridge = 'No' if rmse_test == rmse_test_ridge else 'Yes'\n",
        "\n",
        "# Train a Lasso regression model with default parameters\n",
        "lasso_model = Lasso()\n",
        "lasso_model.fit(X_train, y_train)\n",
        "\n",
        "# Predict with the Lasso model on the test set\n",
        "y_test_pred_lasso = lasso_model.predict(X_test)\n",
        "\n",
        "# Calculate RMSE with Lasso regression on the test set\n",
        "rmse_test_lasso = mean_squared_error(y_test, y_test_pred_lasso, squared=False)\n",
        "\n",
        "# Count the number of non-zero feature weights in Lasso regression\n",
        "non_zero_weights = sum(lasso_model.coef_ != 0)\n",
        "\n",
        "# Print the answers to the questions\n",
        "print(f'Did the RMSE change with Ridge Regression? {rmse_change_ridge}')\n",
        "print(f'Number of features with non-zero weights in Lasso Regression: {non_zero_weights}')\n",
        "print(f'RMSE with Lasso Regression on the test set: {rmse_test_lasso:.3f}')\n"
      ],
      "metadata": {
        "colab": {
          "base_uri": "https://localhost:8080/"
        },
        "id": "7nSgvcBezYnH",
        "outputId": "bcf76e9e-c2f7-4a61-dd59-73713eaf81c2"
      },
      "execution_count": 6,
      "outputs": [
        {
          "output_type": "stream",
          "name": "stdout",
          "text": [
            "Did the RMSE change with Ridge Regression? Yes\n",
            "Number of features with non-zero weights in Lasso Regression: 4\n",
            "RMSE with Lasso Regression on the test set: 99.424\n"
          ]
        }
      ]
    },
    {
      "cell_type": "code",
      "source": [],
      "metadata": {
        "id": "PZSO9cXG0IPE"
      },
      "execution_count": null,
      "outputs": []
    }
  ]
}